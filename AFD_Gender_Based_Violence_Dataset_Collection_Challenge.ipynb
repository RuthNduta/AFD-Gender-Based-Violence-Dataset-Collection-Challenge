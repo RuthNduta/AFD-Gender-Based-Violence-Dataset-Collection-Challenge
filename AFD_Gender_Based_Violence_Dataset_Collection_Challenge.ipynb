{
  "nbformat": 4,
  "nbformat_minor": 0,
  "metadata": {
    "hide_input": false,
    "kernelspec": {
      "display_name": "Python 3",
      "language": "python",
      "name": "python3"
    },
    "language_info": {
      "codemirror_mode": {
        "name": "ipython",
        "version": 3
      },
      "file_extension": ".py",
      "mimetype": "text/x-python",
      "name": "python",
      "nbconvert_exporter": "python",
      "pygments_lexer": "ipython3",
      "version": "3.7.3"
    },
    "toc": {
      "base_numbering": 1,
      "nav_menu": {},
      "number_sections": true,
      "sideBar": true,
      "skip_h1_title": false,
      "title_cell": "Table of Contents",
      "title_sidebar": "Contents",
      "toc_cell": false,
      "toc_position": {},
      "toc_section_display": true,
      "toc_window_display": false
    },
    "colab": {
      "name": "AFD Gender-Based Violence Dataset Collection Challenge.ipynb",
      "provenance": [],
      "include_colab_link": true
    }
  },
  "cells": [
    {
      "cell_type": "markdown",
      "metadata": {
        "id": "view-in-github",
        "colab_type": "text"
      },
      "source": [
        "<a href=\"https://colab.research.google.com/github/RuthNduta/AFD-Gender-Based-Violence-Dataset-Collection-Challenge/blob/main/AFD_Gender_Based_Violence_Dataset_Collection_Challenge.ipynb\" target=\"_parent\"><img src=\"https://colab.research.google.com/assets/colab-badge.svg\" alt=\"Open In Colab\"/></a>"
      ]
    },
    {
      "cell_type": "markdown",
      "metadata": {
        "id": "kimFDUL6VsEK"
      },
      "source": [
        "# Collecting tweets based on key words\n",
        "\n",
        "This notebook shows you how to use the [tweepy](https://www.tweepy.org/) python library to collect tweets from Twitter based on key words. \n",
        "\n"
      ]
    },
    {
      "cell_type": "markdown",
      "metadata": {
        "id": "W5jPfBi2VsEX"
      },
      "source": [
        "## STEP 1: PYTHON PACKAGES INSTALLATION"
      ]
    },
    {
      "cell_type": "markdown",
      "metadata": {
        "id": "KOFTvgUxVsEY"
      },
      "source": [
        "Install the following python packages that will help you to collect data from twitter.com "
      ]
    },
    {
      "cell_type": "code",
      "metadata": {
        "id": "aovT_SoTVsEZ",
        "colab": {
          "base_uri": "https://localhost:8080/"
        },
        "outputId": "bf6751f7-f56a-42b1-fb0f-2da4fb2206f9"
      },
      "source": [
        "!pip install tweepy "
      ],
      "execution_count": null,
      "outputs": [
        {
          "output_type": "stream",
          "text": [
            "Requirement already satisfied: tweepy in /usr/local/lib/python3.7/dist-packages (3.10.0)\n",
            "Requirement already satisfied: six>=1.10.0 in /usr/local/lib/python3.7/dist-packages (from tweepy) (1.15.0)\n",
            "Requirement already satisfied: requests[socks]>=2.11.1 in /usr/local/lib/python3.7/dist-packages (from tweepy) (2.23.0)\n",
            "Requirement already satisfied: requests-oauthlib>=0.7.0 in /usr/local/lib/python3.7/dist-packages (from tweepy) (1.3.0)\n",
            "Requirement already satisfied: certifi>=2017.4.17 in /usr/local/lib/python3.7/dist-packages (from requests[socks]>=2.11.1->tweepy) (2020.12.5)\n",
            "Requirement already satisfied: idna<3,>=2.5 in /usr/local/lib/python3.7/dist-packages (from requests[socks]>=2.11.1->tweepy) (2.10)\n",
            "Requirement already satisfied: urllib3!=1.25.0,!=1.25.1,<1.26,>=1.21.1 in /usr/local/lib/python3.7/dist-packages (from requests[socks]>=2.11.1->tweepy) (1.24.3)\n",
            "Requirement already satisfied: chardet<4,>=3.0.2 in /usr/local/lib/python3.7/dist-packages (from requests[socks]>=2.11.1->tweepy) (3.0.4)\n",
            "Requirement already satisfied: PySocks!=1.5.7,>=1.5.6; extra == \"socks\" in /usr/local/lib/python3.7/dist-packages (from requests[socks]>=2.11.1->tweepy) (1.7.1)\n",
            "Requirement already satisfied: oauthlib>=3.0.0 in /usr/local/lib/python3.7/dist-packages (from requests-oauthlib>=0.7.0->tweepy) (3.1.0)\n"
          ],
          "name": "stdout"
        }
      ]
    },
    {
      "cell_type": "code",
      "metadata": {
        "id": "ujpRRfYNVsEa",
        "colab": {
          "base_uri": "https://localhost:8080/"
        },
        "outputId": "dc6a762c-5a46-4504-f00d-441e88694c0d"
      },
      "source": [
        "!pip install unidecode"
      ],
      "execution_count": null,
      "outputs": [
        {
          "output_type": "stream",
          "text": [
            "Collecting unidecode\n",
            "\u001b[?25l  Downloading https://files.pythonhosted.org/packages/9e/25/723487ca2a52ebcee88a34d7d1f5a4b80b793f179ee0f62d5371938dfa01/Unidecode-1.2.0-py2.py3-none-any.whl (241kB)\n",
            "\r\u001b[K     |█▍                              | 10kB 11.5MB/s eta 0:00:01\r\u001b[K     |██▊                             | 20kB 5.1MB/s eta 0:00:01\r\u001b[K     |████                            | 30kB 7.0MB/s eta 0:00:01\r\u001b[K     |█████▍                          | 40kB 8.8MB/s eta 0:00:01\r\u001b[K     |██████▉                         | 51kB 8.6MB/s eta 0:00:01\r\u001b[K     |████████▏                       | 61kB 9.9MB/s eta 0:00:01\r\u001b[K     |█████████▌                      | 71kB 8.0MB/s eta 0:00:01\r\u001b[K     |██████████▉                     | 81kB 8.7MB/s eta 0:00:01\r\u001b[K     |████████████▏                   | 92kB 6.9MB/s eta 0:00:01\r\u001b[K     |█████████████▋                  | 102kB 7.5MB/s eta 0:00:01\r\u001b[K     |███████████████                 | 112kB 7.5MB/s eta 0:00:01\r\u001b[K     |████████████████▎               | 122kB 7.5MB/s eta 0:00:01\r\u001b[K     |█████████████████▋              | 133kB 7.5MB/s eta 0:00:01\r\u001b[K     |███████████████████             | 143kB 7.5MB/s eta 0:00:01\r\u001b[K     |████████████████████▍           | 153kB 7.5MB/s eta 0:00:01\r\u001b[K     |█████████████████████▊          | 163kB 7.5MB/s eta 0:00:01\r\u001b[K     |███████████████████████         | 174kB 7.5MB/s eta 0:00:01\r\u001b[K     |████████████████████████▍       | 184kB 7.5MB/s eta 0:00:01\r\u001b[K     |█████████████████████████▊      | 194kB 7.5MB/s eta 0:00:01\r\u001b[K     |███████████████████████████▏    | 204kB 7.5MB/s eta 0:00:01\r\u001b[K     |████████████████████████████▌   | 215kB 7.5MB/s eta 0:00:01\r\u001b[K     |█████████████████████████████▉  | 225kB 7.5MB/s eta 0:00:01\r\u001b[K     |███████████████████████████████▏| 235kB 7.5MB/s eta 0:00:01\r\u001b[K     |████████████████████████████████| 245kB 7.5MB/s \n",
            "\u001b[?25hInstalling collected packages: unidecode\n",
            "Successfully installed unidecode-1.2.0\n"
          ],
          "name": "stdout"
        }
      ]
    },
    {
      "cell_type": "markdown",
      "metadata": {
        "id": "PjBVAgHtVsEb"
      },
      "source": [
        "## STEP 2: IMPORT IMPORTANT PACKAGES "
      ]
    },
    {
      "cell_type": "code",
      "metadata": {
        "id": "FuuduvJdVsEb"
      },
      "source": [
        "#import dependencies\n",
        "import tweepy\n",
        "from tweepy import OAuthHandler\n",
        "from tweepy.streaming import StreamListener\n",
        "import json\n",
        "from unidecode import unidecode\n",
        "import time\n",
        "import datetime\n",
        "from tqdm import tqdm \n",
        "import pandas as pd  \n",
        "import numpy as np "
      ],
      "execution_count": null,
      "outputs": []
    },
    {
      "cell_type": "markdown",
      "metadata": {
        "id": "rcwuj_cCVsEc"
      },
      "source": [
        "## STEP 3: AUTHENTICATING TO TWITTER'S API"
      ]
    },
    {
      "cell_type": "code",
      "metadata": {
        "id": "22d3faf8-477c-4db7-ba87-4ea481d409ba"
      },
      "source": [
        "# Twitter Keys\n",
        "consumer_key = \n",
        "consumer_secret = \n",
        "access_token = \n",
        "access_token_secret = \n"
      ],
      "execution_count": null,
      "outputs": []
    },
    {
      "cell_type": "markdown",
      "metadata": {
        "id": "dBnf5h7vVsEe"
      },
      "source": [
        "## STEP 4:  CONNECT TO TWITTER API USING THE SECRET KEY AND ACCESS TOKEN"
      ]
    },
    {
      "cell_type": "code",
      "metadata": {
        "id": "gXZoz67YVsEf"
      },
      "source": [
        "auth = tweepy.OAuthHandler(consumer_key, consumer_secret)\n",
        "auth.set_access_token(access_token, access_token_secret)\n",
        "\n",
        "api = tweepy.API(auth,wait_on_rate_limit=True,wait_on_rate_limit_notify=True)"
      ],
      "execution_count": null,
      "outputs": []
    },
    {
      "cell_type": "markdown",
      "metadata": {
        "id": "lE-m6C2dVsEg"
      },
      "source": [
        "## STEP 5: DEFINE A FUNCTION THAT WILL TAKE OUR SEARCH QUERY"
      ]
    },
    {
      "cell_type": "code",
      "metadata": {
        "code_folding": [],
        "id": "Wx_E4-vhVsEg"
      },
      "source": [
        "def tweetSearch(query, limit):\n",
        "    \"\"\"\n",
        "    This function will search a query provided in the twitter and,\n",
        "    retun a list of all tweets that have a query. \n",
        "    \"\"\"\n",
        "\n",
        "    # Create a blank variable\n",
        "    tweets = []\n",
        "\n",
        "    # Iterate through Twitter using Tweepy to find our query with our defined limit\n",
        "    for page in tweepy.Cursor(\n",
        "        api.search, q=query, count=limit, tweet_mode=\"extended\"\n",
        "    ).pages(limit):\n",
        "        for tweet in page:\n",
        "            tweets.append(tweet)\n",
        "\n",
        "    # return tweets\n",
        "    return tweets"
      ],
      "execution_count": null,
      "outputs": []
    },
    {
      "cell_type": "markdown",
      "metadata": {
        "id": "jnGlWkWKVsEh"
      },
      "source": [
        "## STEP 6: CREATE A FUNCTION TO SAVE TWEETS INTO A DATAFRAME"
      ]
    },
    {
      "cell_type": "code",
      "metadata": {
        "id": "wD1CDboGVsEh"
      },
      "source": [
        "def tweets_to_data_frame(tweets):\n",
        "    \"\"\"\n",
        "    This function will receive tweets and collect specific data from it such as place, tweet's text,likes \n",
        "    retweets and save them into a pandas data frame.\n",
        "    \n",
        "    This function will return a pandas data frame that contains data from twitter.\n",
        "    \"\"\"\n",
        "    df = pd.DataFrame(data=[tweet.full_text.encode('utf-8') for tweet in tweets], columns=[\"Tweets\"])\n",
        "\n",
        "    df[\"id\"] = np.array([tweet.id for tweet in tweets])\n",
        "    df[\"lens\"] = np.array([len(tweet.full_text) for tweet in tweets])\n",
        "    df[\"date\"] = np.array([tweet.created_at for tweet in tweets])\n",
        "    df[\"place\"] = np.array([tweet.place for tweet in tweets])\n",
        "    df[\"coordinateS\"] = np.array([tweet.coordinates for tweet in tweets])\n",
        "    df[\"lang\"] = np.array([tweet.lang for tweet in tweets])\n",
        "    df[\"source\"] = np.array([tweet.source for tweet in tweets])\n",
        "    df[\"likes\"] = np.array([tweet.favorite_count for tweet in tweets])\n",
        "    df[\"retweets\"] = np.array([tweet.retweet_count for tweet in tweets])\n",
        "\n",
        "    return df"
      ],
      "execution_count": null,
      "outputs": []
    },
    {
      "cell_type": "code",
      "metadata": {
        "colab": {
          "base_uri": "https://localhost:8080/"
        },
        "id": "fBUKaW7z0D_u",
        "outputId": "456f2778-2b21-4799-f3ba-24dadf95e3d9"
      },
      "source": [
        "'#Femicide',\n",
        "'16Days', \n",
        "'#shadowpandemic', \n",
        "'#MeToo', \n",
        "'genderbasedviolence'\n",
        "'#rape',\n",
        "'#WomenMatter',"
      ],
      "execution_count": null,
      "outputs": [
        {
          "output_type": "execute_result",
          "data": {
            "text/plain": [
              "('#WomenMatter',)"
            ]
          },
          "metadata": {
            "tags": []
          },
          "execution_count": 8
        }
      ]
    },
    {
      "cell_type": "markdown",
      "metadata": {
        "id": "ttlTpIzhVsEi"
      },
      "source": [
        "## STEP 7: ADD TWITTER HASHTAGS RELATED TO GENDER-BASED VIOLENCE"
      ]
    },
    {
      "cell_type": "code",
      "metadata": {
        "id": "sFJ-0oqrVsEi"
      },
      "source": [
        ""
      ],
      "execution_count": null,
      "outputs": []
    },
    {
      "cell_type": "markdown",
      "metadata": {
        "id": "WjBvYGgsVsEj"
      },
      "source": [
        "## STEP 8: RUN BOTH FUNCTIONS TO COLLECT DATA FROM TWITTER RELATED TO THE HASHTAGS LISTED ABOVE"
      ]
    },
    {
      "cell_type": "code",
      "metadata": {
        "id": "vqEUWaW9VsEj",
        "colab": {
          "base_uri": "https://localhost:8080/"
        },
        "outputId": "5f44ac8b-a696-4b8d-9ec7-b50abe508ed9"
      },
      "source": [
        "# add hashtags in the following list\n",
        "hashtags = [\n",
        "'kupigwa',\n",
        "]\n",
        "total_tweets = 0\n",
        "\n",
        "\"\"\"\n",
        "The following for loop will collect a tweets that have the hashtags\n",
        " mentioned in the list and save the tweets into csv file\n",
        "\"\"\"\n",
        "\n",
        "for n in tqdm(hashtags):\n",
        "    # first we fetch all tweets that have specific hashtag\n",
        "    hash_tweets = tweetSearch(query=n,limit=20000)\n",
        "    total_tweets += int(len(hash_tweets))\n",
        "    \n",
        "    # second we convert our tweets into datarame\n",
        "    df = tweets_to_data_frame(hash_tweets)\n",
        "    #remove retweets\n",
        "    df['Tweets'] = df.Tweets.astype('str')\n",
        "    df2 = df[~df.Tweets.str.contains('RT')]\n",
        "    df2 = df2.reset_index(drop=True)\n",
        "       #third we save the dataframe into csv file\n",
        "    df2.to_csv(\"{}.csv\".format(n))"
      ],
      "execution_count": null,
      "outputs": [
        {
          "output_type": "stream",
          "text": [
            "100%|██████████| 1/1 [00:07<00:00,  7.67s/it]\n"
          ],
          "name": "stderr"
        }
      ]
    },
    {
      "cell_type": "code",
      "metadata": {
        "colab": {
          "base_uri": "https://localhost:8080/",
          "height": 580
        },
        "id": "LM0zUJ94HF83",
        "outputId": "c9a7acff-92a5-44bc-a155-baac1b617157"
      },
      "source": [
        "df2"
      ],
      "execution_count": null,
      "outputs": [
        {
          "output_type": "execute_result",
          "data": {
            "text/html": [
              "<div>\n",
              "<style scoped>\n",
              "    .dataframe tbody tr th:only-of-type {\n",
              "        vertical-align: middle;\n",
              "    }\n",
              "\n",
              "    .dataframe tbody tr th {\n",
              "        vertical-align: top;\n",
              "    }\n",
              "\n",
              "    .dataframe thead th {\n",
              "        text-align: right;\n",
              "    }\n",
              "</style>\n",
              "<table border=\"1\" class=\"dataframe\">\n",
              "  <thead>\n",
              "    <tr style=\"text-align: right;\">\n",
              "      <th></th>\n",
              "      <th>Tweets</th>\n",
              "      <th>id</th>\n",
              "      <th>lens</th>\n",
              "      <th>date</th>\n",
              "      <th>place</th>\n",
              "      <th>coordinateS</th>\n",
              "      <th>lang</th>\n",
              "      <th>source</th>\n",
              "      <th>likes</th>\n",
              "      <th>retweets</th>\n",
              "    </tr>\n",
              "  </thead>\n",
              "  <tbody>\n",
              "    <tr>\n",
              "      <th>0</th>\n",
              "      <td>b'@njerii___ Mimi na date Bora ako na katundu ...</td>\n",
              "      <td>1393600246194835456</td>\n",
              "      <td>68</td>\n",
              "      <td>2021-05-15 16:12:45</td>\n",
              "      <td>None</td>\n",
              "      <td>None</td>\n",
              "      <td>tl</td>\n",
              "      <td>Twitter for Android</td>\n",
              "      <td>0</td>\n",
              "      <td>0</td>\n",
              "    </tr>\n",
              "    <tr>\n",
              "      <th>1</th>\n",
              "      <td>b'@funjojr Sasa wao wame respond baada ya kupi...</td>\n",
              "      <td>1393598813802311682</td>\n",
              "      <td>240</td>\n",
              "      <td>2021-05-15 16:07:03</td>\n",
              "      <td>None</td>\n",
              "      <td>None</td>\n",
              "      <td>tl</td>\n",
              "      <td>Twitter for Android</td>\n",
              "      <td>0</td>\n",
              "      <td>0</td>\n",
              "    </tr>\n",
              "    <tr>\n",
              "      <th>2</th>\n",
              "      <td>b'Hapa ni kupigwa https://t.co/OL910xO030'</td>\n",
              "      <td>1393597744388923399</td>\n",
              "      <td>39</td>\n",
              "      <td>2021-05-15 16:02:48</td>\n",
              "      <td>None</td>\n",
              "      <td>None</td>\n",
              "      <td>tl</td>\n",
              "      <td>Twitter for Android</td>\n",
              "      <td>0</td>\n",
              "      <td>0</td>\n",
              "    </tr>\n",
              "    <tr>\n",
              "      <th>3</th>\n",
              "      <td>b'@pizzahmwitu @kafangi @sponjy_ @KUcoolkid @k...</td>\n",
              "      <td>1393595288783368193</td>\n",
              "      <td>196</td>\n",
              "      <td>2021-05-15 15:53:03</td>\n",
              "      <td>None</td>\n",
              "      <td>None</td>\n",
              "      <td>pl</td>\n",
              "      <td>Twitter Web App</td>\n",
              "      <td>1</td>\n",
              "      <td>0</td>\n",
              "    </tr>\n",
              "    <tr>\n",
              "      <th>4</th>\n",
              "      <td>b'Kikosi cha klabu ya @SimbaSCTanzania kimewas...</td>\n",
              "      <td>1393592284873170945</td>\n",
              "      <td>243</td>\n",
              "      <td>2021-05-15 15:41:07</td>\n",
              "      <td>None</td>\n",
              "      <td>None</td>\n",
              "      <td>in</td>\n",
              "      <td>Twitter for Android</td>\n",
              "      <td>8</td>\n",
              "      <td>0</td>\n",
              "    </tr>\n",
              "    <tr>\n",
              "      <th>...</th>\n",
              "      <td>...</td>\n",
              "      <td>...</td>\n",
              "      <td>...</td>\n",
              "      <td>...</td>\n",
              "      <td>...</td>\n",
              "      <td>...</td>\n",
              "      <td>...</td>\n",
              "      <td>...</td>\n",
              "      <td>...</td>\n",
              "      <td>...</td>\n",
              "    </tr>\n",
              "    <tr>\n",
              "      <th>665</th>\n",
              "      <td>b'@HabariTech Mbona mambo ya kizamani haya?, m...</td>\n",
              "      <td>1390781828676689921</td>\n",
              "      <td>197</td>\n",
              "      <td>2021-05-07 21:33:22</td>\n",
              "      <td>None</td>\n",
              "      <td>None</td>\n",
              "      <td>in</td>\n",
              "      <td>Twitter for Android</td>\n",
              "      <td>0</td>\n",
              "      <td>0</td>\n",
              "    </tr>\n",
              "    <tr>\n",
              "      <th>666</th>\n",
              "      <td>b'Bonyeza link kuona 6ix9ine akitoka kupigwa f...</td>\n",
              "      <td>1390779688990257156</td>\n",
              "      <td>125</td>\n",
              "      <td>2021-05-07 21:24:51</td>\n",
              "      <td>None</td>\n",
              "      <td>None</td>\n",
              "      <td>in</td>\n",
              "      <td>Twitter for Android</td>\n",
              "      <td>0</td>\n",
              "      <td>0</td>\n",
              "    </tr>\n",
              "    <tr>\n",
              "      <th>667</th>\n",
              "      <td>b\"@Roma_Mkatoliki Hii inapaswa kupigwa kopi na...</td>\n",
              "      <td>1390775072307154947</td>\n",
              "      <td>137</td>\n",
              "      <td>2021-05-07 21:06:31</td>\n",
              "      <td>None</td>\n",
              "      <td>None</td>\n",
              "      <td>in</td>\n",
              "      <td>Twitter Web App</td>\n",
              "      <td>0</td>\n",
              "      <td>0</td>\n",
              "    </tr>\n",
              "    <tr>\n",
              "      <th>668</th>\n",
              "      <td>b'@pilatowagalilay Amekarbia kupigwa radi'</td>\n",
              "      <td>1390762401591595037</td>\n",
              "      <td>39</td>\n",
              "      <td>2021-05-07 20:16:10</td>\n",
              "      <td>None</td>\n",
              "      <td>None</td>\n",
              "      <td>pl</td>\n",
              "      <td>Twitter for Android</td>\n",
              "      <td>0</td>\n",
              "      <td>0</td>\n",
              "    </tr>\n",
              "    <tr>\n",
              "      <th>669</th>\n",
              "      <td>b'@knaanBanks Eeh nilisahau pole kwa kupigwa n...</td>\n",
              "      <td>1390757785365794823</td>\n",
              "      <td>76</td>\n",
              "      <td>2021-05-07 19:57:49</td>\n",
              "      <td>None</td>\n",
              "      <td>None</td>\n",
              "      <td>in</td>\n",
              "      <td>Twitter for Android</td>\n",
              "      <td>1</td>\n",
              "      <td>0</td>\n",
              "    </tr>\n",
              "  </tbody>\n",
              "</table>\n",
              "<p>670 rows × 10 columns</p>\n",
              "</div>"
            ],
            "text/plain": [
              "                                                Tweets  ...  retweets\n",
              "0    b'@njerii___ Mimi na date Bora ako na katundu ...  ...         0\n",
              "1    b'@funjojr Sasa wao wame respond baada ya kupi...  ...         0\n",
              "2           b'Hapa ni kupigwa https://t.co/OL910xO030'  ...         0\n",
              "3    b'@pizzahmwitu @kafangi @sponjy_ @KUcoolkid @k...  ...         0\n",
              "4    b'Kikosi cha klabu ya @SimbaSCTanzania kimewas...  ...         0\n",
              "..                                                 ...  ...       ...\n",
              "665  b'@HabariTech Mbona mambo ya kizamani haya?, m...  ...         0\n",
              "666  b'Bonyeza link kuona 6ix9ine akitoka kupigwa f...  ...         0\n",
              "667  b\"@Roma_Mkatoliki Hii inapaswa kupigwa kopi na...  ...         0\n",
              "668         b'@pilatowagalilay Amekarbia kupigwa radi'  ...         0\n",
              "669  b'@knaanBanks Eeh nilisahau pole kwa kupigwa n...  ...         0\n",
              "\n",
              "[670 rows x 10 columns]"
            ]
          },
          "metadata": {
            "tags": []
          },
          "execution_count": 10
        }
      ]
    },
    {
      "cell_type": "code",
      "metadata": {
        "colab": {
          "base_uri": "https://localhost:8080/"
        },
        "id": "8SX_Nn79zx9v",
        "outputId": "edc86420-1fee-4882-84fa-54f14c3b394e"
      },
      "source": [
        "df.info()"
      ],
      "execution_count": null,
      "outputs": [
        {
          "output_type": "stream",
          "text": [
            "<class 'pandas.core.frame.DataFrame'>\n",
            "RangeIndex: 1430 entries, 0 to 1429\n",
            "Data columns (total 10 columns):\n",
            " #   Column       Non-Null Count  Dtype         \n",
            "---  ------       --------------  -----         \n",
            " 0   Tweets       1430 non-null   object        \n",
            " 1   id           1430 non-null   int64         \n",
            " 2   lens         1430 non-null   int64         \n",
            " 3   date         1430 non-null   datetime64[ns]\n",
            " 4   place        10 non-null     object        \n",
            " 5   coordinateS  0 non-null      object        \n",
            " 6   lang         1430 non-null   object        \n",
            " 7   source       1430 non-null   object        \n",
            " 8   likes        1430 non-null   int64         \n",
            " 9   retweets     1430 non-null   int64         \n",
            "dtypes: datetime64[ns](1), int64(4), object(5)\n",
            "memory usage: 111.8+ KB\n"
          ],
          "name": "stdout"
        }
      ]
    },
    {
      "cell_type": "code",
      "metadata": {
        "colab": {
          "base_uri": "https://localhost:8080/",
          "height": 580
        },
        "id": "wlRNjZcTztVX",
        "outputId": "e2ca5dba-dcdc-4e1b-c03e-9d73af9b36f1"
      },
      "source": [
        "#remove retweets\n",
        "df['Tweets'] = df.Tweets.astype('str')\n",
        "df2 = df[~df.Tweets.str.contains('RT')]\n",
        "df2 = df2.reset_index(drop=True)\n",
        "df2"
      ],
      "execution_count": null,
      "outputs": [
        {
          "output_type": "execute_result",
          "data": {
            "text/html": [
              "<div>\n",
              "<style scoped>\n",
              "    .dataframe tbody tr th:only-of-type {\n",
              "        vertical-align: middle;\n",
              "    }\n",
              "\n",
              "    .dataframe tbody tr th {\n",
              "        vertical-align: top;\n",
              "    }\n",
              "\n",
              "    .dataframe thead th {\n",
              "        text-align: right;\n",
              "    }\n",
              "</style>\n",
              "<table border=\"1\" class=\"dataframe\">\n",
              "  <thead>\n",
              "    <tr style=\"text-align: right;\">\n",
              "      <th></th>\n",
              "      <th>Tweets</th>\n",
              "      <th>id</th>\n",
              "      <th>lens</th>\n",
              "      <th>date</th>\n",
              "      <th>place</th>\n",
              "      <th>coordinateS</th>\n",
              "      <th>lang</th>\n",
              "      <th>source</th>\n",
              "      <th>likes</th>\n",
              "      <th>retweets</th>\n",
              "    </tr>\n",
              "  </thead>\n",
              "  <tbody>\n",
              "    <tr>\n",
              "      <th>0</th>\n",
              "      <td>b'@njerii___ Mimi na date Bora ako na katundu ...</td>\n",
              "      <td>1393600246194835456</td>\n",
              "      <td>68</td>\n",
              "      <td>2021-05-15 16:12:45</td>\n",
              "      <td>None</td>\n",
              "      <td>None</td>\n",
              "      <td>tl</td>\n",
              "      <td>Twitter for Android</td>\n",
              "      <td>0</td>\n",
              "      <td>0</td>\n",
              "    </tr>\n",
              "    <tr>\n",
              "      <th>1</th>\n",
              "      <td>b'@funjojr Sasa wao wame respond baada ya kupi...</td>\n",
              "      <td>1393598813802311682</td>\n",
              "      <td>240</td>\n",
              "      <td>2021-05-15 16:07:03</td>\n",
              "      <td>None</td>\n",
              "      <td>None</td>\n",
              "      <td>tl</td>\n",
              "      <td>Twitter for Android</td>\n",
              "      <td>0</td>\n",
              "      <td>0</td>\n",
              "    </tr>\n",
              "    <tr>\n",
              "      <th>2</th>\n",
              "      <td>b'Hapa ni kupigwa https://t.co/OL910xO030'</td>\n",
              "      <td>1393597744388923399</td>\n",
              "      <td>39</td>\n",
              "      <td>2021-05-15 16:02:48</td>\n",
              "      <td>None</td>\n",
              "      <td>None</td>\n",
              "      <td>tl</td>\n",
              "      <td>Twitter for Android</td>\n",
              "      <td>0</td>\n",
              "      <td>0</td>\n",
              "    </tr>\n",
              "    <tr>\n",
              "      <th>3</th>\n",
              "      <td>b'@pizzahmwitu @kafangi @sponjy_ @KUcoolkid @k...</td>\n",
              "      <td>1393595288783368193</td>\n",
              "      <td>196</td>\n",
              "      <td>2021-05-15 15:53:03</td>\n",
              "      <td>None</td>\n",
              "      <td>None</td>\n",
              "      <td>pl</td>\n",
              "      <td>Twitter Web App</td>\n",
              "      <td>1</td>\n",
              "      <td>0</td>\n",
              "    </tr>\n",
              "    <tr>\n",
              "      <th>4</th>\n",
              "      <td>b'Kikosi cha klabu ya @SimbaSCTanzania kimewas...</td>\n",
              "      <td>1393592284873170945</td>\n",
              "      <td>243</td>\n",
              "      <td>2021-05-15 15:41:07</td>\n",
              "      <td>None</td>\n",
              "      <td>None</td>\n",
              "      <td>in</td>\n",
              "      <td>Twitter for Android</td>\n",
              "      <td>8</td>\n",
              "      <td>0</td>\n",
              "    </tr>\n",
              "    <tr>\n",
              "      <th>...</th>\n",
              "      <td>...</td>\n",
              "      <td>...</td>\n",
              "      <td>...</td>\n",
              "      <td>...</td>\n",
              "      <td>...</td>\n",
              "      <td>...</td>\n",
              "      <td>...</td>\n",
              "      <td>...</td>\n",
              "      <td>...</td>\n",
              "      <td>...</td>\n",
              "    </tr>\n",
              "    <tr>\n",
              "      <th>665</th>\n",
              "      <td>b'@HabariTech Mbona mambo ya kizamani haya?, m...</td>\n",
              "      <td>1390781828676689921</td>\n",
              "      <td>197</td>\n",
              "      <td>2021-05-07 21:33:22</td>\n",
              "      <td>None</td>\n",
              "      <td>None</td>\n",
              "      <td>in</td>\n",
              "      <td>Twitter for Android</td>\n",
              "      <td>0</td>\n",
              "      <td>0</td>\n",
              "    </tr>\n",
              "    <tr>\n",
              "      <th>666</th>\n",
              "      <td>b'Bonyeza link kuona 6ix9ine akitoka kupigwa f...</td>\n",
              "      <td>1390779688990257156</td>\n",
              "      <td>125</td>\n",
              "      <td>2021-05-07 21:24:51</td>\n",
              "      <td>None</td>\n",
              "      <td>None</td>\n",
              "      <td>in</td>\n",
              "      <td>Twitter for Android</td>\n",
              "      <td>0</td>\n",
              "      <td>0</td>\n",
              "    </tr>\n",
              "    <tr>\n",
              "      <th>667</th>\n",
              "      <td>b\"@Roma_Mkatoliki Hii inapaswa kupigwa kopi na...</td>\n",
              "      <td>1390775072307154947</td>\n",
              "      <td>137</td>\n",
              "      <td>2021-05-07 21:06:31</td>\n",
              "      <td>None</td>\n",
              "      <td>None</td>\n",
              "      <td>in</td>\n",
              "      <td>Twitter Web App</td>\n",
              "      <td>0</td>\n",
              "      <td>0</td>\n",
              "    </tr>\n",
              "    <tr>\n",
              "      <th>668</th>\n",
              "      <td>b'@pilatowagalilay Amekarbia kupigwa radi'</td>\n",
              "      <td>1390762401591595037</td>\n",
              "      <td>39</td>\n",
              "      <td>2021-05-07 20:16:10</td>\n",
              "      <td>None</td>\n",
              "      <td>None</td>\n",
              "      <td>pl</td>\n",
              "      <td>Twitter for Android</td>\n",
              "      <td>0</td>\n",
              "      <td>0</td>\n",
              "    </tr>\n",
              "    <tr>\n",
              "      <th>669</th>\n",
              "      <td>b'@knaanBanks Eeh nilisahau pole kwa kupigwa n...</td>\n",
              "      <td>1390757785365794823</td>\n",
              "      <td>76</td>\n",
              "      <td>2021-05-07 19:57:49</td>\n",
              "      <td>None</td>\n",
              "      <td>None</td>\n",
              "      <td>in</td>\n",
              "      <td>Twitter for Android</td>\n",
              "      <td>1</td>\n",
              "      <td>0</td>\n",
              "    </tr>\n",
              "  </tbody>\n",
              "</table>\n",
              "<p>670 rows × 10 columns</p>\n",
              "</div>"
            ],
            "text/plain": [
              "                                                Tweets  ...  retweets\n",
              "0    b'@njerii___ Mimi na date Bora ako na katundu ...  ...         0\n",
              "1    b'@funjojr Sasa wao wame respond baada ya kupi...  ...         0\n",
              "2           b'Hapa ni kupigwa https://t.co/OL910xO030'  ...         0\n",
              "3    b'@pizzahmwitu @kafangi @sponjy_ @KUcoolkid @k...  ...         0\n",
              "4    b'Kikosi cha klabu ya @SimbaSCTanzania kimewas...  ...         0\n",
              "..                                                 ...  ...       ...\n",
              "665  b'@HabariTech Mbona mambo ya kizamani haya?, m...  ...         0\n",
              "666  b'Bonyeza link kuona 6ix9ine akitoka kupigwa f...  ...         0\n",
              "667  b\"@Roma_Mkatoliki Hii inapaswa kupigwa kopi na...  ...         0\n",
              "668         b'@pilatowagalilay Amekarbia kupigwa radi'  ...         0\n",
              "669  b'@knaanBanks Eeh nilisahau pole kwa kupigwa n...  ...         0\n",
              "\n",
              "[670 rows x 10 columns]"
            ]
          },
          "metadata": {
            "tags": []
          },
          "execution_count": 12
        }
      ]
    },
    {
      "cell_type": "code",
      "metadata": {
        "id": "C6fPfAobVsEk",
        "colab": {
          "base_uri": "https://localhost:8080/"
        },
        "outputId": "924b5f8c-0843-4717-fe75-5ee894988c62"
      },
      "source": [
        "# show total number of tweets collected\n",
        "print(\"total_tweets: {}\".format(total_tweets))"
      ],
      "execution_count": null,
      "outputs": [
        {
          "output_type": "stream",
          "text": [
            "total_tweets: 1430\n"
          ],
          "name": "stdout"
        }
      ]
    },
    {
      "cell_type": "code",
      "metadata": {
        "colab": {
          "base_uri": "https://localhost:8080/",
          "height": 413
        },
        "id": "KOXiN17LHWTi",
        "outputId": "f12706e7-42dc-46e0-f11a-ec34f8a81c96"
      },
      "source": [
        "data = pd.read_csv(\"/content/GBV Hashtags.csv\")\n",
        "data.info()"
      ],
      "execution_count": null,
      "outputs": [
        {
          "output_type": "error",
          "ename": "FileNotFoundError",
          "evalue": "ignored",
          "traceback": [
            "\u001b[0;31m---------------------------------------------------------------------------\u001b[0m",
            "\u001b[0;31mFileNotFoundError\u001b[0m                         Traceback (most recent call last)",
            "\u001b[0;32m<ipython-input-14-7766bc4a7b27>\u001b[0m in \u001b[0;36m<module>\u001b[0;34m()\u001b[0m\n\u001b[0;32m----> 1\u001b[0;31m \u001b[0mdata\u001b[0m \u001b[0;34m=\u001b[0m \u001b[0mpd\u001b[0m\u001b[0;34m.\u001b[0m\u001b[0mread_csv\u001b[0m\u001b[0;34m(\u001b[0m\u001b[0;34m\"/content/GBV Hashtags.csv\"\u001b[0m\u001b[0;34m)\u001b[0m\u001b[0;34m\u001b[0m\u001b[0;34m\u001b[0m\u001b[0m\n\u001b[0m\u001b[1;32m      2\u001b[0m \u001b[0mdata\u001b[0m\u001b[0;34m.\u001b[0m\u001b[0minfo\u001b[0m\u001b[0;34m(\u001b[0m\u001b[0;34m)\u001b[0m\u001b[0;34m\u001b[0m\u001b[0;34m\u001b[0m\u001b[0m\n",
            "\u001b[0;32m/usr/local/lib/python3.7/dist-packages/pandas/io/parsers.py\u001b[0m in \u001b[0;36mread_csv\u001b[0;34m(filepath_or_buffer, sep, delimiter, header, names, index_col, usecols, squeeze, prefix, mangle_dupe_cols, dtype, engine, converters, true_values, false_values, skipinitialspace, skiprows, skipfooter, nrows, na_values, keep_default_na, na_filter, verbose, skip_blank_lines, parse_dates, infer_datetime_format, keep_date_col, date_parser, dayfirst, cache_dates, iterator, chunksize, compression, thousands, decimal, lineterminator, quotechar, quoting, doublequote, escapechar, comment, encoding, dialect, error_bad_lines, warn_bad_lines, delim_whitespace, low_memory, memory_map, float_precision)\u001b[0m\n\u001b[1;32m    686\u001b[0m     )\n\u001b[1;32m    687\u001b[0m \u001b[0;34m\u001b[0m\u001b[0m\n\u001b[0;32m--> 688\u001b[0;31m     \u001b[0;32mreturn\u001b[0m \u001b[0m_read\u001b[0m\u001b[0;34m(\u001b[0m\u001b[0mfilepath_or_buffer\u001b[0m\u001b[0;34m,\u001b[0m \u001b[0mkwds\u001b[0m\u001b[0;34m)\u001b[0m\u001b[0;34m\u001b[0m\u001b[0;34m\u001b[0m\u001b[0m\n\u001b[0m\u001b[1;32m    689\u001b[0m \u001b[0;34m\u001b[0m\u001b[0m\n\u001b[1;32m    690\u001b[0m \u001b[0;34m\u001b[0m\u001b[0m\n",
            "\u001b[0;32m/usr/local/lib/python3.7/dist-packages/pandas/io/parsers.py\u001b[0m in \u001b[0;36m_read\u001b[0;34m(filepath_or_buffer, kwds)\u001b[0m\n\u001b[1;32m    452\u001b[0m \u001b[0;34m\u001b[0m\u001b[0m\n\u001b[1;32m    453\u001b[0m     \u001b[0;31m# Create the parser.\u001b[0m\u001b[0;34m\u001b[0m\u001b[0;34m\u001b[0m\u001b[0;34m\u001b[0m\u001b[0m\n\u001b[0;32m--> 454\u001b[0;31m     \u001b[0mparser\u001b[0m \u001b[0;34m=\u001b[0m \u001b[0mTextFileReader\u001b[0m\u001b[0;34m(\u001b[0m\u001b[0mfp_or_buf\u001b[0m\u001b[0;34m,\u001b[0m \u001b[0;34m**\u001b[0m\u001b[0mkwds\u001b[0m\u001b[0;34m)\u001b[0m\u001b[0;34m\u001b[0m\u001b[0;34m\u001b[0m\u001b[0m\n\u001b[0m\u001b[1;32m    455\u001b[0m \u001b[0;34m\u001b[0m\u001b[0m\n\u001b[1;32m    456\u001b[0m     \u001b[0;32mif\u001b[0m \u001b[0mchunksize\u001b[0m \u001b[0;32mor\u001b[0m \u001b[0miterator\u001b[0m\u001b[0;34m:\u001b[0m\u001b[0;34m\u001b[0m\u001b[0;34m\u001b[0m\u001b[0m\n",
            "\u001b[0;32m/usr/local/lib/python3.7/dist-packages/pandas/io/parsers.py\u001b[0m in \u001b[0;36m__init__\u001b[0;34m(self, f, engine, **kwds)\u001b[0m\n\u001b[1;32m    946\u001b[0m             \u001b[0mself\u001b[0m\u001b[0;34m.\u001b[0m\u001b[0moptions\u001b[0m\u001b[0;34m[\u001b[0m\u001b[0;34m\"has_index_names\"\u001b[0m\u001b[0;34m]\u001b[0m \u001b[0;34m=\u001b[0m \u001b[0mkwds\u001b[0m\u001b[0;34m[\u001b[0m\u001b[0;34m\"has_index_names\"\u001b[0m\u001b[0;34m]\u001b[0m\u001b[0;34m\u001b[0m\u001b[0;34m\u001b[0m\u001b[0m\n\u001b[1;32m    947\u001b[0m \u001b[0;34m\u001b[0m\u001b[0m\n\u001b[0;32m--> 948\u001b[0;31m         \u001b[0mself\u001b[0m\u001b[0;34m.\u001b[0m\u001b[0m_make_engine\u001b[0m\u001b[0;34m(\u001b[0m\u001b[0mself\u001b[0m\u001b[0;34m.\u001b[0m\u001b[0mengine\u001b[0m\u001b[0;34m)\u001b[0m\u001b[0;34m\u001b[0m\u001b[0;34m\u001b[0m\u001b[0m\n\u001b[0m\u001b[1;32m    949\u001b[0m \u001b[0;34m\u001b[0m\u001b[0m\n\u001b[1;32m    950\u001b[0m     \u001b[0;32mdef\u001b[0m \u001b[0mclose\u001b[0m\u001b[0;34m(\u001b[0m\u001b[0mself\u001b[0m\u001b[0;34m)\u001b[0m\u001b[0;34m:\u001b[0m\u001b[0;34m\u001b[0m\u001b[0;34m\u001b[0m\u001b[0m\n",
            "\u001b[0;32m/usr/local/lib/python3.7/dist-packages/pandas/io/parsers.py\u001b[0m in \u001b[0;36m_make_engine\u001b[0;34m(self, engine)\u001b[0m\n\u001b[1;32m   1178\u001b[0m     \u001b[0;32mdef\u001b[0m \u001b[0m_make_engine\u001b[0m\u001b[0;34m(\u001b[0m\u001b[0mself\u001b[0m\u001b[0;34m,\u001b[0m \u001b[0mengine\u001b[0m\u001b[0;34m=\u001b[0m\u001b[0;34m\"c\"\u001b[0m\u001b[0;34m)\u001b[0m\u001b[0;34m:\u001b[0m\u001b[0;34m\u001b[0m\u001b[0;34m\u001b[0m\u001b[0m\n\u001b[1;32m   1179\u001b[0m         \u001b[0;32mif\u001b[0m \u001b[0mengine\u001b[0m \u001b[0;34m==\u001b[0m \u001b[0;34m\"c\"\u001b[0m\u001b[0;34m:\u001b[0m\u001b[0;34m\u001b[0m\u001b[0;34m\u001b[0m\u001b[0m\n\u001b[0;32m-> 1180\u001b[0;31m             \u001b[0mself\u001b[0m\u001b[0;34m.\u001b[0m\u001b[0m_engine\u001b[0m \u001b[0;34m=\u001b[0m \u001b[0mCParserWrapper\u001b[0m\u001b[0;34m(\u001b[0m\u001b[0mself\u001b[0m\u001b[0;34m.\u001b[0m\u001b[0mf\u001b[0m\u001b[0;34m,\u001b[0m \u001b[0;34m**\u001b[0m\u001b[0mself\u001b[0m\u001b[0;34m.\u001b[0m\u001b[0moptions\u001b[0m\u001b[0;34m)\u001b[0m\u001b[0;34m\u001b[0m\u001b[0;34m\u001b[0m\u001b[0m\n\u001b[0m\u001b[1;32m   1181\u001b[0m         \u001b[0;32melse\u001b[0m\u001b[0;34m:\u001b[0m\u001b[0;34m\u001b[0m\u001b[0;34m\u001b[0m\u001b[0m\n\u001b[1;32m   1182\u001b[0m             \u001b[0;32mif\u001b[0m \u001b[0mengine\u001b[0m \u001b[0;34m==\u001b[0m \u001b[0;34m\"python\"\u001b[0m\u001b[0;34m:\u001b[0m\u001b[0;34m\u001b[0m\u001b[0;34m\u001b[0m\u001b[0m\n",
            "\u001b[0;32m/usr/local/lib/python3.7/dist-packages/pandas/io/parsers.py\u001b[0m in \u001b[0;36m__init__\u001b[0;34m(self, src, **kwds)\u001b[0m\n\u001b[1;32m   2008\u001b[0m         \u001b[0mkwds\u001b[0m\u001b[0;34m[\u001b[0m\u001b[0;34m\"usecols\"\u001b[0m\u001b[0;34m]\u001b[0m \u001b[0;34m=\u001b[0m \u001b[0mself\u001b[0m\u001b[0;34m.\u001b[0m\u001b[0musecols\u001b[0m\u001b[0;34m\u001b[0m\u001b[0;34m\u001b[0m\u001b[0m\n\u001b[1;32m   2009\u001b[0m \u001b[0;34m\u001b[0m\u001b[0m\n\u001b[0;32m-> 2010\u001b[0;31m         \u001b[0mself\u001b[0m\u001b[0;34m.\u001b[0m\u001b[0m_reader\u001b[0m \u001b[0;34m=\u001b[0m \u001b[0mparsers\u001b[0m\u001b[0;34m.\u001b[0m\u001b[0mTextReader\u001b[0m\u001b[0;34m(\u001b[0m\u001b[0msrc\u001b[0m\u001b[0;34m,\u001b[0m \u001b[0;34m**\u001b[0m\u001b[0mkwds\u001b[0m\u001b[0;34m)\u001b[0m\u001b[0;34m\u001b[0m\u001b[0;34m\u001b[0m\u001b[0m\n\u001b[0m\u001b[1;32m   2011\u001b[0m         \u001b[0mself\u001b[0m\u001b[0;34m.\u001b[0m\u001b[0munnamed_cols\u001b[0m \u001b[0;34m=\u001b[0m \u001b[0mself\u001b[0m\u001b[0;34m.\u001b[0m\u001b[0m_reader\u001b[0m\u001b[0;34m.\u001b[0m\u001b[0munnamed_cols\u001b[0m\u001b[0;34m\u001b[0m\u001b[0;34m\u001b[0m\u001b[0m\n\u001b[1;32m   2012\u001b[0m \u001b[0;34m\u001b[0m\u001b[0m\n",
            "\u001b[0;32mpandas/_libs/parsers.pyx\u001b[0m in \u001b[0;36mpandas._libs.parsers.TextReader.__cinit__\u001b[0;34m()\u001b[0m\n",
            "\u001b[0;32mpandas/_libs/parsers.pyx\u001b[0m in \u001b[0;36mpandas._libs.parsers.TextReader._setup_parser_source\u001b[0;34m()\u001b[0m\n",
            "\u001b[0;31mFileNotFoundError\u001b[0m: [Errno 2] No such file or directory: '/content/GBV Hashtags.csv'"
          ]
        }
      ]
    },
    {
      "cell_type": "markdown",
      "metadata": {
        "id": "0kORzh6aHupw"
      },
      "source": [
        "Let's clean the tweets a little bit"
      ]
    },
    {
      "cell_type": "code",
      "metadata": {
        "id": "K3iSJuN2LKWG"
      },
      "source": [
        "# check for duplicated tweets\n",
        "\n",
        "data.duplicated('Tweets').sum()"
      ],
      "execution_count": null,
      "outputs": []
    },
    {
      "cell_type": "code",
      "metadata": {
        "id": "l0K3cUOWLZiG"
      },
      "source": [
        "data = data.sort_values('date').drop_duplicates(subset=['Tweets'], keep='last')\n",
        "# check duplicats again, should now be 0\n",
        "data.duplicated('Tweets').sum()"
      ],
      "execution_count": null,
      "outputs": []
    },
    {
      "cell_type": "code",
      "metadata": {
        "id": "GlWz1ILKM4xo"
      },
      "source": [
        "data['date'] = pd.to_datetime(data['date'], errors='coerce').dt.strftime('%Y-%m-%d')"
      ],
      "execution_count": null,
      "outputs": []
    },
    {
      "cell_type": "code",
      "metadata": {
        "id": "W59gir3mReiU"
      },
      "source": [
        "data.info()"
      ],
      "execution_count": null,
      "outputs": []
    },
    {
      "cell_type": "code",
      "metadata": {
        "id": "b71-oCIUOJal"
      },
      "source": [
        "data.to_csv('AFD_data.csv')"
      ],
      "execution_count": null,
      "outputs": []
    },
    {
      "cell_type": "markdown",
      "metadata": {
        "id": "JX7vi-JQVsEk"
      },
      "source": [
        "For more tweepy configuration please read the tweepy documentation [here](https://docs.tweepy.org/en/latest/).\n"
      ]
    }
  ]
}